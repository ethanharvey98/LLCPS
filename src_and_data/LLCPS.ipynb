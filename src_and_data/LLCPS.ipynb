{
 "cells": [
  {
   "cell_type": "code",
   "execution_count": 1,
   "id": "ecc68b03",
   "metadata": {},
   "outputs": [
    {
     "name": "stderr",
     "output_type": "stream",
     "text": [
      "/Users/ethanharvey/opt/anaconda3/lib/python3.8/site-packages/tensorboard/compat/tensorflow_stub/dtypes.py:541: FutureWarning: Passing (type, 1) or '1type' as a synonym of type is deprecated; in a future version of numpy, it will be understood as (type, (1,)) / '(1,)type'.\n",
      "  _np_qint8 = np.dtype([(\"qint8\", np.int8, 1)])\n",
      "/Users/ethanharvey/opt/anaconda3/lib/python3.8/site-packages/tensorboard/compat/tensorflow_stub/dtypes.py:542: FutureWarning: Passing (type, 1) or '1type' as a synonym of type is deprecated; in a future version of numpy, it will be understood as (type, (1,)) / '(1,)type'.\n",
      "  _np_quint8 = np.dtype([(\"quint8\", np.uint8, 1)])\n",
      "/Users/ethanharvey/opt/anaconda3/lib/python3.8/site-packages/tensorboard/compat/tensorflow_stub/dtypes.py:543: FutureWarning: Passing (type, 1) or '1type' as a synonym of type is deprecated; in a future version of numpy, it will be understood as (type, (1,)) / '(1,)type'.\n",
      "  _np_qint16 = np.dtype([(\"qint16\", np.int16, 1)])\n",
      "/Users/ethanharvey/opt/anaconda3/lib/python3.8/site-packages/tensorboard/compat/tensorflow_stub/dtypes.py:544: FutureWarning: Passing (type, 1) or '1type' as a synonym of type is deprecated; in a future version of numpy, it will be understood as (type, (1,)) / '(1,)type'.\n",
      "  _np_quint16 = np.dtype([(\"quint16\", np.uint16, 1)])\n",
      "/Users/ethanharvey/opt/anaconda3/lib/python3.8/site-packages/tensorboard/compat/tensorflow_stub/dtypes.py:545: FutureWarning: Passing (type, 1) or '1type' as a synonym of type is deprecated; in a future version of numpy, it will be understood as (type, (1,)) / '(1,)type'.\n",
      "  _np_qint32 = np.dtype([(\"qint32\", np.int32, 1)])\n",
      "/Users/ethanharvey/opt/anaconda3/lib/python3.8/site-packages/tensorboard/compat/tensorflow_stub/dtypes.py:550: FutureWarning: Passing (type, 1) or '1type' as a synonym of type is deprecated; in a future version of numpy, it will be understood as (type, (1,)) / '(1,)type'.\n",
      "  np_resource = np.dtype([(\"resource\", np.ubyte, 1)])\n"
     ]
    }
   ],
   "source": [
    "from sklearn.preprocessing import StandardScaler\n",
    "from sklearn.model_selection import KFold\n",
    "from sklearn.model_selection import train_test_split\n",
    "from sklearn.multioutput import MultiOutputClassifier\n",
    "from sklearn.naive_bayes import MultinomialNB\n",
    "from sklearn.svm import SVC\n",
    "# TensorFlow and tf.keras\n",
    "import tensorflow as tf\n",
    "tf.random.set_seed(1)\n",
    "\n",
    "import numpy as np\n",
    "import pandas as pd\n",
    "\n",
    "from matplotlib import pyplot as plt\n",
    "import seaborn as sns\n",
    "%matplotlib inline\n",
    "plt.style.use(\"seaborn\") # pretty matplotlib plots\n",
    "\n",
    "import warnings\n",
    "warnings.filterwarnings('ignore')\n",
    "warnings.simplefilter('ignore')"
   ]
  },
  {
   "cell_type": "code",
   "execution_count": 2,
   "id": "4405ba1e",
   "metadata": {},
   "outputs": [],
   "source": [
    "world_model_input = pd.read_csv('data/world_model_input.csv')\n",
    "world_model_output = pd.read_csv('data/world_model_output.csv')"
   ]
  },
  {
   "cell_type": "code",
   "execution_count": 3,
   "id": "55727ca2",
   "metadata": {},
   "outputs": [],
   "source": [
    "# One-hot encode encoded_action, encoded_orientation, encoded_shape, and color\n",
    "world_model_input = world_model_input.drop('encoded_action', 1).join(pd.get_dummies(world_model_input.encoded_action, prefix='encoded_action'))\n",
    "world_model_input = world_model_input.drop('encoded_orientation', 1).join(pd.get_dummies(world_model_input.encoded_orientation, prefix='encoded_orientation'))\n",
    "world_model_input = world_model_input.drop('encoded_shape', 1).join(pd.get_dummies(world_model_input.encoded_shape, prefix='encoded_shape'))\n",
    "world_model_input = world_model_input.drop('encoded_color', 1).join(pd.get_dummies(world_model_input.encoded_color, prefix='encoded_color'))"
   ]
  },
  {
   "cell_type": "code",
   "execution_count": 4,
   "id": "0bc18d9b",
   "metadata": {},
   "outputs": [],
   "source": [
    "def unisonShuffleDataset(a, b):\n",
    "    assert len(a) == len(b)\n",
    "    p = np.random.permutation(len(a))\n",
    "    return a[p], b[p]\n",
    "\n",
    "X = StandardScaler().fit_transform(world_model_input)\n",
    "y = world_model_output.to_numpy()\n",
    "X, y = unisonShuffleDataset(X, y)"
   ]
  },
  {
   "cell_type": "code",
   "execution_count": 5,
   "id": "f979a5ea",
   "metadata": {},
   "outputs": [],
   "source": [
    "def binary_accuracy_percision_recall(y_test, predictions):\n",
    "    TP, TN, FP, FN = 0.0, 0.0, 0.0, 0.0\n",
    "\n",
    "    for i in range(y_test.shape[0]):\n",
    "        for j in range(y_test.shape[1]):\n",
    "            # True positive\n",
    "            if y_test[i][j] == 1 and predictions[i][j] == 1: TP = TP + 1\n",
    "            # True negative\n",
    "            elif y_test[i][j] == 0 and predictions[i][j] == 0: TN = TN + 1\n",
    "            # False positive\n",
    "            elif y_test[i][j] == 0 and predictions[i][j] == 1: FP = FP + 1\n",
    "            # False negative\n",
    "            elif y_test[i][j] == 1 and predictions[i][j] == 0:  FN = FN + 1\n",
    "    # Calculate binary accuracy, percision, and recall            \n",
    "    if (TP+TN+FP+FN != 0): acc = (TP+TN)/(TP+TN+FP+FN)\n",
    "    else: acc = 0\n",
    "    if (TP+FN != 0): tpr = TP/(TP+FN)\n",
    "    else: tpr = 0\n",
    "    if (TP+FP != 0): ppv = TP/(TP+FP)\n",
    "    else: ppv = 0\n",
    "    \n",
    "    return acc, tpr, ppv"
   ]
  },
  {
   "cell_type": "code",
   "execution_count": 6,
   "id": "75106dae",
   "metadata": {},
   "outputs": [
    {
     "name": "stdout",
     "output_type": "stream",
     "text": [
      "Binary accuracy mean: 0.9103448275862069 +/- 0.010280772310343843\n",
      "Percision mean: 0.1303137254901961 +/- 0.04788511007165175\n",
      "Recall mean: 0.21526315789473688 +/- 0.08984717368889819\n"
     ]
    }
   ],
   "source": [
    "k = 5\n",
    "kfold = KFold(n_splits=k)\n",
    "history = []\n",
    "\n",
    "for train_idx, test_idx in kfold.split(X):\n",
    "    X_train, X_test = X[train_idx,:], X[test_idx,:]\n",
    "    y_train, y_test = y[train_idx,:], y[test_idx,:]\n",
    "    classifier = MultiOutputClassifier(MultinomialNB())\n",
    "    classifier.fit(abs(X_train), y_train[:,0:5])\n",
    "    predictions = classifier.predict(X_test)\n",
    "    history.append(binary_accuracy_percision_recall(y_test[:,0:5], predictions))\n",
    "    \n",
    "print(\"Binary accuracy mean:\", np.array([history[i][0] for i in range(k)]).mean(),\n",
    "      \"+/-\", np.array([history[i][0] for i in range(k)]).std())\n",
    "print(\"Percision mean:\", np.array([history[i][1] for i in range(k)]).mean(),\n",
    "      \"+/-\", np.array([history[i][1] for i in range(k)]).std())\n",
    "print(\"Recall mean:\", np.array([history[i][2] for i in range(k)]).mean(),\n",
    "      \"+/-\", np.array([history[i][2] for i in range(k)]).std())"
   ]
  },
  {
   "cell_type": "code",
   "execution_count": 7,
   "id": "ccf51e42",
   "metadata": {},
   "outputs": [
    {
     "name": "stdout",
     "output_type": "stream",
     "text": [
      "Binary accuracy mean: 0.9402298850574713 +/- 0.004361762289887452\n",
      "Percision mean: 0.3479857397504456 +/- 0.08850122155150666\n",
      "Recall mean: 0.5808913308913308 +/- 0.16396914455388809\n"
     ]
    }
   ],
   "source": [
    "k = 5\n",
    "kfold = KFold(n_splits=k)\n",
    "history = []\n",
    "\n",
    "for train_idx, test_idx in kfold.split(X):\n",
    "    X_train, X_test = X[train_idx,:], X[test_idx,:]\n",
    "    y_train, y_test = y[train_idx,:], y[test_idx,:]\n",
    "    classifier = MultiOutputClassifier(SVC(C=1, kernel='poly', degree=4, probability=True))\n",
    "    classifier.fit(X_train, y_train[:,0:5])\n",
    "    prediction = classifier.predict(X_test)\n",
    "    history.append(binary_accuracy_percision_recall(y_test[:,0:5], prediction))\n",
    "\n",
    "print(\"Binary accuracy mean:\", np.array([history[i][0] for i in range(k)]).mean(),\n",
    "      \"+/-\", np.array([history[i][0] for i in range(k)]).std())\n",
    "print(\"Percision mean:\", np.array([history[i][1] for i in range(k)]).mean(),\n",
    "      \"+/-\", np.array([history[i][1] for i in range(k)]).std())\n",
    "print(\"Recall mean:\", np.array([history[i][2] for i in range(k)]).mean(),\n",
    "      \"+/-\", np.array([history[i][2] for i in range(k)]).std())"
   ]
  },
  {
   "cell_type": "code",
   "execution_count": 8,
   "id": "c836de32",
   "metadata": {},
   "outputs": [],
   "source": [
    "def init_neural_network():\n",
    "    global model\n",
    "    initial_learning_rate = 0.001\n",
    "    lr_schedule = tf.keras.optimizers.schedules.ExponentialDecay(\n",
    "        initial_learning_rate,\n",
    "        decay_steps=100,\n",
    "        decay_rate=0.96,\n",
    "        staircase=True)\n",
    "    model = tf.keras.Sequential([\n",
    "        tf.keras.layers.Flatten(input_shape=(19,)),\n",
    "        tf.keras.layers.Dense(512, activation='relu'),\n",
    "        tf.keras.layers.Dense(512, activation='relu'),\n",
    "        tf.keras.layers.Dense(512, activation='relu'),\n",
    "        tf.keras.layers.Dense(5, activation='sigmoid'),\n",
    "    ])\n",
    "    model.compile(optimizer=tf.optimizers.Adam(learning_rate=lr_schedule), loss='binary_crossentropy', metrics='binary_accuracy')\n",
    "    return model"
   ]
  },
  {
   "cell_type": "code",
   "execution_count": 9,
   "id": "6b497daf",
   "metadata": {},
   "outputs": [
    {
     "name": "stdout",
     "output_type": "stream",
     "text": [
      "WARNING:tensorflow:5 out of the last 13 calls to <function Model.make_predict_function.<locals>.predict_function at 0x7ff2be4491f0> triggered tf.function retracing. Tracing is expensive and the excessive number of tracings could be due to (1) creating @tf.function repeatedly in a loop, (2) passing tensors with different shapes, (3) passing Python objects instead of tensors. For (1), please define your @tf.function outside of the loop. For (2), @tf.function has experimental_relax_shapes=True option that relaxes argument shapes that can avoid unnecessary retracing. For (3), please refer to https://www.tensorflow.org/guide/function#controlling_retracing and https://www.tensorflow.org/api_docs/python/tf/function for  more details.\n",
      "Binary accuracy mean: 0.9466666666666667 +/- 0.008891530853247684\n",
      "Percision mean: 0.34103743315508017 +/- 0.1307384053804591\n",
      "Recall mean: 0.6677426438296004 +/- 0.14470179115386655\n"
     ]
    }
   ],
   "source": [
    "k = 5\n",
    "kfold = KFold(n_splits=k)\n",
    "callback = tf.keras.callbacks.EarlyStopping(monitor='val_loss', patience=3, restore_best_weights=True)\n",
    "models = []\n",
    "history = []\n",
    "\n",
    "for train_idx, test_idx in kfold.split(X):\n",
    "    X_train, X_test = X[train_idx,:], X[test_idx,:]\n",
    "    y_train, y_test = y[train_idx,:], y[test_idx,:]\n",
    "\n",
    "    model = init_neural_network()\n",
    "    models.append(model.fit(X_train, y_train[:,0:5], validation_data=(X_test, y_test[:,0:5]), epochs=50, verbose=0, callbacks=[callback]))\n",
    "    history.append(binary_accuracy_percision_recall(y_test[:,0:5], (model.predict(X_test) > 0.5).astype(\"int32\")))\n",
    "\n",
    "print(\"Binary accuracy mean:\", np.array([history[i][0] for i in range(k)]).mean(),\n",
    "      \"+/-\", np.array([history[i][0] for i in range(k)]).std())\n",
    "print(\"Percision mean:\", np.array([history[i][1] for i in range(k)]).mean(),\n",
    "      \"+/-\", np.array([history[i][1] for i in range(k)]).std())\n",
    "print(\"Recall mean:\", np.array([history[i][2] for i in range(k)]).mean(),\n",
    "      \"+/-\", np.array([history[i][2] for i in range(k)]).std())"
   ]
  },
  {
   "cell_type": "code",
   "execution_count": 10,
   "id": "61670e97",
   "metadata": {},
   "outputs": [
    {
     "data": {
      "image/png": "[encoded data removed]",
      "text/plain": [
       "<Figure size 1440x288 with 5 Axes>"
      ]
     },
     "metadata": {},
     "output_type": "display_data"
    }
   ],
   "source": [
    "fig, axs = plt.subplots(1, 5, figsize=(20, 4), sharey=True, sharex=True)\n",
    "for i in range(5):\n",
    "    axs[i].plot(models[i].history['loss'], label='loss')\n",
    "    axs[i].plot(models[i].history['val_loss'], label='val_loss')\n",
    "    axs[i].legend()\n",
    "    axs[i].set_xlabel('Epochs')\n",
    "axs[0].set_ylabel('Loss')\n",
    "fig.suptitle(\"Train and Validation Loss\", fontsize=18)\n",
    "plt.show()"
   ]
  },
  {
   "cell_type": "code",
   "execution_count": null,
   "id": "fe1d1c3e",
   "metadata": {},
   "outputs": [],
   "source": []
  }
 ],
 "metadata": {
  "kernelspec": {
   "display_name": "Python 3",
   "language": "python",
   "name": "python3"
  },
  "language_info": {
   "codemirror_mode": {
    "name": "ipython",
    "version": 3
   },
   "file_extension": ".py",
   "mimetype": "text/x-python",
   "name": "python",
   "nbconvert_exporter": "python",
   "pygments_lexer": "ipython3",
   "version": "3.8.8"
  }
 },
 "nbformat": 4,
 "nbformat_minor": 5
}
